{
 "cells": [
  {
   "cell_type": "markdown",
   "metadata": {},
   "source": [
    "# HTTP 靜態網頁架構說明\n",
    "\n",
    "* 認識靜態網頁的溝通架構與運作原理\n",
    "* HTML、CSS、JavaScript 在網頁中扮演的角色\n",
    "* 網頁中定位資料的方法"
   ]
  },
  {
   "cell_type": "markdown",
   "metadata": {},
   "source": [
    "## 作業目標\n",
    "\n",
    "1. （簡答題）請問目前提到的這種基於 HTTP 一來一回的網頁傳輸方式，有哪些缺點及問題？\n",
    "2. （簡答題）網頁中使用的 JavaScipt 程式語言，跟我們一般使用的 Python 在執行上有什麼不同。\n"
   ]
  },
  {
   "cell_type": "markdown",
   "metadata": {},
   "source": [
    "### 1.（簡答題）請問目前提到的這種基於 HTTP 一來一回的網頁傳輸方式，有哪些缺點及問題？"
   ]
  },
  {
   "cell_type": "code",
   "execution_count": 1,
   "metadata": {},
   "outputs": [
    {
     "name": "stdout",
     "output_type": "stream",
     "text": [
      "1.傳輸速度慢\n",
      "2.資料包大\n",
      "3.資料傳輸安全性差\n"
     ]
    }
   ],
   "source": [
    "print('1.傳輸速度慢\\n2.資料包大\\n3.資料傳輸安全性差')"
   ]
  },
  {
   "cell_type": "markdown",
   "metadata": {},
   "source": [
    "### 2. （簡答題）網頁中使用的 JavaScipt 程式語言，跟我們一般使用的 Python 在執行上有什麼不同。"
   ]
  },
  {
   "cell_type": "code",
   "execution_count": 3,
   "metadata": {},
   "outputs": [
    {
     "name": "stdout",
     "output_type": "stream",
     "text": [
      "1.Javascript的物件導向是基於原型的， 物件的繼承是由原型建立出來的，由原型物件建立出來的物件繼承了原型鏈上的方法。而Python則是中規中矩的基於類的繼承，並天然的支援多型。\n",
      "2.在Javascript的世界中沒有多執行緒的概念。Python通過thread包支援多執行緒。\n",
      "3.在Python中，有的資料型別是不可改變的。而在Javascript中所有的資料型別都是可以改變的。\n",
      "4.Javascript的資料型別比較簡單，有object、string、boolean、number、null和undefined共六種。Python中一切均為物件，除了有五個內建的簡單資料型別還有容器型別、程式碼型別、內部型別等等。\n",
      "5.當操作不同型別一起進行運算的時候，Javascript會進行自動的型別轉換，這很方便但也很容易出錯。而Python一般不會在不同的型別之間做自動的轉換。\n"
     ]
    }
   ],
   "source": [
    "print('1.Javascript的物件導向是基於原型的， 物件的繼承是由原型建立出來的，由原型物件建立出來的物件繼承了原型鏈上的方法。而Python則是中規中矩的基於類的繼承，並天然的支援多型。\\n2.在Javascript的世界中沒有多執行緒的概念。Python通過thread包支援多執行緒。\\n3.在Python中，有的資料型別是不可改變的。而在Javascript中所有的資料型別都是可以改變的。\\n4.Javascript的資料型別比較簡單，有object、string、boolean、number、null和undefined共六種。Python中一切均為物件，除了有五個內建的簡單資料型別還有容器型別、程式碼型別、內部型別等等。\\n5.當操作不同型別一起進行運算的時候，Javascript會進行自動的型別轉換，這很方便但也很容易出錯。而Python一般不會在不同的型別之間做自動的轉換。')"
   ]
  },
  {
   "cell_type": "code",
   "execution_count": null,
   "metadata": {},
   "outputs": [],
   "source": []
  }
 ],
 "metadata": {
  "kernelspec": {
   "display_name": "Python 3",
   "language": "python",
   "name": "python3"
  },
  "language_info": {
   "codemirror_mode": {
    "name": "ipython",
    "version": 3
   },
   "file_extension": ".py",
   "mimetype": "text/x-python",
   "name": "python",
   "nbconvert_exporter": "python",
   "pygments_lexer": "ipython3",
   "version": "3.7.4"
  }
 },
 "nbformat": 4,
 "nbformat_minor": 2
}
